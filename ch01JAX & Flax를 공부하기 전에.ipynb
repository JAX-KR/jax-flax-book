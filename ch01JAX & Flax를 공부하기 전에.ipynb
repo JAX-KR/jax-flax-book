{
  "nbformat": 4,
  "nbformat_minor": 0,
  "metadata": {
    "colab": {
      "provenance": [],
      "machine_shape": "hm",
      "authorship_tag": "ABX9TyOIA/5k6KNc1k+95tYa8a28",
      "include_colab_link": true
    },
    "kernelspec": {
      "name": "python3",
      "display_name": "Python 3"
    },
    "language_info": {
      "name": "python"
    },
    "accelerator": "TPU"
  },
  "cells": [
    {
      "cell_type": "markdown",
      "metadata": {
        "id": "view-in-github",
        "colab_type": "text"
      },
      "source": [
        "<a href=\"https://colab.research.google.com/github/yblee110/jax-flax-book/blob/main/ch01.ipynb\" target=\"_parent\"><img src=\"https://colab.research.google.com/assets/colab-badge.svg\" alt=\"Open In Colab\"/></a>"
      ]
    },
    {
      "cell_type": "code",
      "execution_count": 1,
      "metadata": {
        "colab": {
          "base_uri": "https://localhost:8080/"
        },
        "id": "EQOro5FNc9Gv",
        "outputId": "6af969a7-fb15-4c46-88ba-885bed4f9a14"
      },
      "outputs": [
        {
          "output_type": "stream",
          "name": "stdout",
          "text": [
            "1\n",
            "3\n",
            "6\n",
            "after_counter: 6\n"
          ]
        }
      ],
      "source": [
        "counter = 0\n",
        "\n",
        "def increment_counter(x):\n",
        "  global counter\n",
        "  counter += x\n",
        "  return counter\n",
        "\n",
        "\n",
        "print(increment_counter(1))\n",
        "print(increment_counter(2))\n",
        "print(increment_counter(3))\n",
        "print('after_counter:', counter)"
      ]
    },
    {
      "cell_type": "code",
      "source": [
        "def not_side_effect_example(counter, x):\n",
        "    return counter + x\n",
        "\n",
        "counter = 0\n",
        "\n",
        "for a in range(3):\n",
        "    print(not_side_effect_example(counter,a+1))\n",
        "\n",
        "print('after_counter:', counter)"
      ],
      "metadata": {
        "colab": {
          "base_uri": "https://localhost:8080/"
        },
        "id": "rz1yqdajdOr4",
        "outputId": "ab5b8f15-29aa-4c38-bea2-53ca593c5da9"
      },
      "execution_count": 3,
      "outputs": [
        {
          "output_type": "stream",
          "name": "stdout",
          "text": [
            "1\n",
            "2\n",
            "3\n",
            "after_counter: 0\n"
          ]
        }
      ]
    },
    {
      "cell_type": "code",
      "source": [
        "def create_counter():\n",
        "    count = [0]\n",
        "    def counter():\n",
        "        count[0] += 1\n",
        "        return count[0]\n",
        "    return counter\n",
        "\n",
        "counter = create_counter()\n",
        "print(counter())  # 1\n",
        "print(counter())  # 2\n",
        "print(counter())  # 3\n",
        "print(counter())  # 4\n",
        "print(counter())  # 5"
      ],
      "metadata": {
        "colab": {
          "base_uri": "https://localhost:8080/"
        },
        "id": "DI9LpKygdOun",
        "outputId": "dd99d55f-e1b5-4bf3-c5de-ada2f13afff2"
      },
      "execution_count": 7,
      "outputs": [
        {
          "output_type": "stream",
          "name": "stdout",
          "text": [
            "1\n",
            "2\n",
            "3\n",
            "4\n",
            "5\n"
          ]
        }
      ]
    },
    {
      "cell_type": "code",
      "source": [
        "counter = 0\n",
        "def immutable_example(state,x):\n",
        "    counter = state\n",
        "    return counter + x\n",
        "\n",
        "for a in range(3):\n",
        "    print(immutable_example(0,a+1))\n",
        "    print('counter:', counter)"
      ],
      "metadata": {
        "colab": {
          "base_uri": "https://localhost:8080/"
        },
        "id": "Eb_xI3WTdOw_",
        "outputId": "34af6c51-1a02-4dea-f2c3-ddbf52f307a2"
      },
      "execution_count": 12,
      "outputs": [
        {
          "output_type": "stream",
          "name": "stdout",
          "text": [
            "1\n",
            "counter: 0\n",
            "2\n",
            "counter: 0\n",
            "3\n",
            "counter: 0\n"
          ]
        }
      ]
    },
    {
      "cell_type": "code",
      "source": [
        "def add_mul(x, y, z):\n",
        "    return x + y * z\n",
        "\n",
        "print('not_using_partial :', add_mul(2, 3, 1))\n",
        "print('not_using_partial :', add_mul(3, 4, 1))\n",
        "print('not_using_partial :', add_mul(6, 8, 1))\n",
        "\n",
        "#partial을 사용한 예시\n",
        "from functools import partial\n",
        "\n",
        "add_2 = partial(add_mul, z = 1)\n",
        "\n",
        "print('using_partial :', add_2(2, 3))\n",
        "print('using_partial :', add_2(3, 4))\n",
        "print('using_partial :', add_2(6, 8))"
      ],
      "metadata": {
        "colab": {
          "base_uri": "https://localhost:8080/"
        },
        "id": "NQCFBQLgdOz5",
        "outputId": "4bf82866-9ccd-4bfd-fdde-30f91831d9f5"
      },
      "execution_count": 13,
      "outputs": [
        {
          "output_type": "stream",
          "name": "stdout",
          "text": [
            "not_using_partial : 5\n",
            "not_using_partial : 7\n",
            "not_using_partial : 14\n",
            "using_partial : 5\n",
            "using_partial : 7\n",
            "using_partial : 14\n"
          ]
        }
      ]
    },
    {
      "cell_type": "code",
      "source": [
        "import jax\n",
        "import jax.numpy as jnp\n",
        "from functools import partial\n",
        "\n",
        "@partial(jax.jit, static_argnames=['n'])\n",
        "def g(x, n):\n",
        "    for i in range(n):\n",
        "        x = x ** 2\n",
        "    return x\n",
        "\n",
        "g(jnp.arange(4), 3)"
      ],
      "metadata": {
        "colab": {
          "base_uri": "https://localhost:8080/"
        },
        "id": "_4Mab4nBdO2K",
        "outputId": "e72b62ed-e09d-438b-9e0d-071109837579"
      },
      "execution_count": 14,
      "outputs": [
        {
          "output_type": "stream",
          "name": "stderr",
          "text": [
            "WARNING:jax._src.lib.xla_bridge:No GPU/TPU found, falling back to CPU. (Set TF_CPP_MIN_LOG_LEVEL=0 and rerun for more info.)\n"
          ]
        },
        {
          "output_type": "execute_result",
          "data": {
            "text/plain": [
              "DeviceArray([   0,    1,  256, 6561], dtype=int32)"
            ]
          },
          "metadata": {},
          "execution_count": 14
        }
      ]
    },
    {
      "cell_type": "code",
      "source": [
        "from typing import Any, Callable,Tuple\n",
        "\n",
        "\n",
        "from flax import linen as nn\n",
        "import jax.numpy as jnp\n",
        "\n",
        "\n",
        "ModuleDef = Any\n",
        "\n",
        "\n",
        "class ResNetBlock(nn.Module):\n",
        "    \"\"\"Residual Block 선언\"\"\"\n",
        "    filters: int\n",
        "    conv: ModuleDef\n",
        "    norm: ModuleDef\n",
        "    act: Callable\n",
        "    strides: Tuple[int, int] = (1, 1)"
      ],
      "metadata": {
        "id": "8nVGZ440dO4i"
      },
      "execution_count": 15,
      "outputs": []
    },
    {
      "cell_type": "code",
      "source": [
        "# 런타임 다시 시작 후 실행해주세요!\n",
        "!pip install jax==0.3.25 jaxlib==0.3.25\n",
        "import jax.tools.colab_tpu\n",
        "jax.tools.colab_tpu.setup_tpu()"
      ],
      "metadata": {
        "colab": {
          "base_uri": "https://localhost:8080/"
        },
        "id": "tDu4sO95dlC7",
        "outputId": "fd3a7657-2f00-4220-e99f-b92969d8a264"
      },
      "execution_count": 1,
      "outputs": [
        {
          "output_type": "stream",
          "name": "stdout",
          "text": [
            "Requirement already satisfied: jax==0.3.25 in /usr/local/lib/python3.10/dist-packages (0.3.25)\n",
            "Requirement already satisfied: jaxlib==0.3.25 in /usr/local/lib/python3.10/dist-packages (0.3.25)\n",
            "Requirement already satisfied: numpy>=1.20 in /usr/local/lib/python3.10/dist-packages (from jax==0.3.25) (1.23.5)\n",
            "Requirement already satisfied: opt-einsum in /usr/local/lib/python3.10/dist-packages (from jax==0.3.25) (3.3.0)\n",
            "Requirement already satisfied: scipy>=1.5 in /usr/local/lib/python3.10/dist-packages (from jax==0.3.25) (1.11.3)\n",
            "Requirement already satisfied: typing-extensions in /usr/local/lib/python3.10/dist-packages (from jax==0.3.25) (4.5.0)\n"
          ]
        }
      ]
    },
    {
      "cell_type": "code",
      "source": [
        "jax.devices()"
      ],
      "metadata": {
        "colab": {
          "base_uri": "https://localhost:8080/"
        },
        "id": "1UZ_RULSdufW",
        "outputId": "e8acb80d-7cec-45cf-f434-71a16a17da1f"
      },
      "execution_count": 2,
      "outputs": [
        {
          "output_type": "execute_result",
          "data": {
            "text/plain": [
              "[TpuDevice(id=0, process_index=0, coords=(0,0,0), core_on_chip=0),\n",
              " TpuDevice(id=1, process_index=0, coords=(0,0,0), core_on_chip=1),\n",
              " TpuDevice(id=2, process_index=0, coords=(1,0,0), core_on_chip=0),\n",
              " TpuDevice(id=3, process_index=0, coords=(1,0,0), core_on_chip=1),\n",
              " TpuDevice(id=4, process_index=0, coords=(0,1,0), core_on_chip=0),\n",
              " TpuDevice(id=5, process_index=0, coords=(0,1,0), core_on_chip=1),\n",
              " TpuDevice(id=6, process_index=0, coords=(1,1,0), core_on_chip=0),\n",
              " TpuDevice(id=7, process_index=0, coords=(1,1,0), core_on_chip=1)]"
            ]
          },
          "metadata": {},
          "execution_count": 2
        }
      ]
    },
    {
      "cell_type": "code",
      "source": [],
      "metadata": {
        "id": "Zbm8cqwQfG6q"
      },
      "execution_count": null,
      "outputs": []
    }
  ]
}
