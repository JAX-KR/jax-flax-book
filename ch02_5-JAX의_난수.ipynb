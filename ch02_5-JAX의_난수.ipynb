{
  "nbformat": 4,
  "nbformat_minor": 0,
  "metadata": {
    "colab": {
      "provenance": [],
      "gpuType": "T4",
      "authorship_tag": "ABX9TyOWMQiBvSu2O33StASa9FZ4",
      "include_colab_link": true
    },
    "kernelspec": {
      "name": "python3",
      "display_name": "Python 3"
    },
    "language_info": {
      "name": "python"
    },
    "accelerator": "GPU"
  },
  "cells": [
    {
      "cell_type": "markdown",
      "metadata": {
        "id": "view-in-github",
        "colab_type": "text"
      },
      "source": [
        "<a href=\"https://colab.research.google.com/github/yblee110/jax-flax-book/blob/main/ch02_5.ipynb\" target=\"_parent\"><img src=\"https://colab.research.google.com/assets/colab-badge.svg\" alt=\"Open In Colab\"/></a>"
      ]
    },
    {
      "cell_type": "code",
      "execution_count": 1,
      "metadata": {
        "id": "3HtAubI6nmhh"
      },
      "outputs": [],
      "source": [
        "import numpy as np\n",
        "np.random.seed(0)"
      ]
    },
    {
      "cell_type": "code",
      "source": [
        "def print_truncated_random_state():\n",
        "    \"\"\"출력에 문제생기지 않게 상태의 일부만 보여준다.\"\"\"\n",
        "    full_random_state = np.random.get_state()\n",
        "    print(str(full_random_state)[:460], '...')\n",
        "\n",
        "\n",
        "print_truncated_random_state()\n",
        "\n"
      ],
      "metadata": {
        "colab": {
          "base_uri": "https://localhost:8080/"
        },
        "id": "8yWmVlljnvhc",
        "outputId": "d03791f9-6a53-40f3-8e40-4d44e5f3a472"
      },
      "execution_count": 2,
      "outputs": [
        {
          "output_type": "stream",
          "name": "stdout",
          "text": [
            "('MT19937', array([         0,          1, 1812433255, 1900727105, 1208447044,\n",
            "       2481403966, 4042607538,  337614300, 3232553940, 1018809052,\n",
            "       3202401494, 1775180719, 3192392114,  594215549,  184016991,\n",
            "        829906058,  610491522, 3879932251, 3139825610,  297902587,\n",
            "       4075895579, 2943625357, 3530655617, 1423771745, 2135928312,\n",
            "       2891506774, 1066338622,  135451537,  933040465, 2759011858,\n",
            "       2273819758, 3545703099, 2516396728, 127 ...\n"
          ]
        }
      ]
    },
    {
      "cell_type": "code",
      "source": [
        "np.random.seed(0)\n",
        "print_truncated_random_state()\n",
        "_ = np.random.uniform()\n",
        "print_truncated_random_state()\n"
      ],
      "metadata": {
        "colab": {
          "base_uri": "https://localhost:8080/"
        },
        "id": "vwUpfGoUoA5y",
        "outputId": "d3150be7-dcd1-4f5f-e62c-d7291db6bd76"
      },
      "execution_count": 3,
      "outputs": [
        {
          "output_type": "stream",
          "name": "stdout",
          "text": [
            "('MT19937', array([         0,          1, 1812433255, 1900727105, 1208447044,\n",
            "       2481403966, 4042607538,  337614300, 3232553940, 1018809052,\n",
            "       3202401494, 1775180719, 3192392114,  594215549,  184016991,\n",
            "        829906058,  610491522, 3879932251, 3139825610,  297902587,\n",
            "       4075895579, 2943625357, 3530655617, 1423771745, 2135928312,\n",
            "       2891506774, 1066338622,  135451537,  933040465, 2759011858,\n",
            "       2273819758, 3545703099, 2516396728, 127 ...\n",
            "('MT19937', array([2443250962, 1093594115, 1878467924, 2709361018, 1101979660,\n",
            "       3904844661,  676747479, 2085143622, 1056793272, 3812477442,\n",
            "       2168787041,  275552121, 2696932952, 3432054210, 1657102335,\n",
            "       3518946594,  962584079, 1051271004, 3806145045, 1414436097,\n",
            "       2032348584, 1661738718, 1116708477, 2562755208, 3176189976,\n",
            "        696824676, 2399811678, 3992505346,  569184356, 2626558620,\n",
            "        136797809, 4273176064,  296167901, 343 ...\n"
          ]
        }
      ]
    },
    {
      "cell_type": "code",
      "source": [
        "np.random.seed(0)\n",
        "print(np.random.uniform(size=3))"
      ],
      "metadata": {
        "colab": {
          "base_uri": "https://localhost:8080/"
        },
        "id": "2hW-4SPhoFoz",
        "outputId": "904c5aa9-6953-4d3e-dc94-e04d53794ed5"
      },
      "execution_count": 4,
      "outputs": [
        {
          "output_type": "stream",
          "name": "stdout",
          "text": [
            "[0.5488135  0.71518937 0.60276338]\n"
          ]
        }
      ]
    },
    {
      "cell_type": "code",
      "source": [
        "np.random.seed(0)\n",
        "print(\"individually:\", np.stack([np.random.uniform() for _ in range(3)]))\n",
        "\n",
        "np.random.seed(0)\n",
        "print(\"all at once: \", np.random.uniform(size=3))"
      ],
      "metadata": {
        "colab": {
          "base_uri": "https://localhost:8080/"
        },
        "id": "B78w3A94oIbt",
        "outputId": "a5ce389e-1129-4945-9baf-47b3d5895158"
      },
      "execution_count": 5,
      "outputs": [
        {
          "output_type": "stream",
          "name": "stdout",
          "text": [
            "individually: [0.5488135  0.71518937 0.60276338]\n",
            "all at once:  [0.5488135  0.71518937 0.60276338]\n"
          ]
        }
      ]
    },
    {
      "cell_type": "code",
      "source": [
        "import numpy as np\n",
        "\n",
        "np.random.seed(0)\n",
        "\n",
        "def bar(): return np.random.uniform()\n",
        "def baz(): return np.random.uniform()\n",
        "\n",
        "\n",
        "def foo(): return bar() + 2 * baz()\n",
        "\n",
        "\n",
        "print(foo())"
      ],
      "metadata": {
        "colab": {
          "base_uri": "https://localhost:8080/"
        },
        "id": "Hc_3t8CPoKWt",
        "outputId": "f231f501-efbb-43b2-d12c-7397641f2658"
      },
      "execution_count": 6,
      "outputs": [
        {
          "output_type": "stream",
          "name": "stdout",
          "text": [
            "1.9791922366721637\n"
          ]
        }
      ]
    },
    {
      "cell_type": "code",
      "source": [
        "# 새로운 버전\n",
        "from numpy.random import default_rng\n",
        "rng = default_rng(seed=0)\n",
        "vals = rng.standard_normal(10)\n",
        "more_vals = rng.standard_normal(10)\n",
        "\n",
        "# 이전버전\n",
        "from numpy import random\n",
        "vals = random.standard_normal(10)\n",
        "more_vals = random.standard_normal(10)\n"
      ],
      "metadata": {
        "id": "GNI_jjU_oNgE"
      },
      "execution_count": 7,
      "outputs": []
    },
    {
      "cell_type": "code",
      "source": [
        "from numpy.random import SeedSequence, default_rng\n",
        "ss = SeedSequence(12345)\n",
        "child_seeds = ss.spawn(10)\n",
        "streams = [default_rng(s) for s in child_seeds]\n",
        "print(streams)\n"
      ],
      "metadata": {
        "colab": {
          "base_uri": "https://localhost:8080/"
        },
        "id": "0PBYgyO6oUSV",
        "outputId": "2a4732a9-d3fb-4490-c1cb-f858f72a3f7a"
      },
      "execution_count": 8,
      "outputs": [
        {
          "output_type": "stream",
          "name": "stdout",
          "text": [
            "[Generator(PCG64) at 0x7F951A307300, Generator(PCG64) at 0x7F951A307840, Generator(PCG64) at 0x7F951A3074C0, Generator(PCG64) at 0x7F951A3075A0, Generator(PCG64) at 0x7F951A307920, Generator(PCG64) at 0x7F951A307680, Generator(PCG64) at 0x7F951A307760, Generator(PCG64) at 0x7F951A307BC0, Generator(PCG64) at 0x7F951A2525E0, Generator(PCG64) at 0x7F951A252420]\n"
          ]
        }
      ]
    },
    {
      "cell_type": "code",
      "source": [
        "import numpy as np\n",
        "from numpy.random import SeedSequence, default_rng\n",
        "ss = SeedSequence(12345)\n",
        "seeds = ss.spawn(2)\n",
        "stream = [default_rng(s) for s in seeds]\n",
        "\n",
        "def bar(): return stream[0].uniform()\n",
        "def baz(): return stream[1].uniform()\n",
        "\n",
        "def foo(): return bar() + 2 * baz()\n",
        "\n",
        "print(foo())\n"
      ],
      "metadata": {
        "colab": {
          "base_uri": "https://localhost:8080/"
        },
        "id": "3Ilv61CeoXGt",
        "outputId": "8b88b3bf-a06f-4498-ce9d-2e4eeaeeb392"
      },
      "execution_count": 9,
      "outputs": [
        {
          "output_type": "stream",
          "name": "stdout",
          "text": [
            "1.6241496684412051\n"
          ]
        }
      ]
    },
    {
      "cell_type": "code",
      "source": [
        "from jax import random\n",
        "key = random.PRNGKey(42)\n",
        "print(key)"
      ],
      "metadata": {
        "colab": {
          "base_uri": "https://localhost:8080/"
        },
        "id": "EhDqfygvodUA",
        "outputId": "b98a2c53-3d44-4bcc-ddea-94950de6b54b"
      },
      "execution_count": 10,
      "outputs": [
        {
          "output_type": "stream",
          "name": "stdout",
          "text": [
            "[ 0 42]\n"
          ]
        }
      ]
    },
    {
      "cell_type": "code",
      "source": [
        "print(random.normal(key))\n",
        "print(random.normal(key))"
      ],
      "metadata": {
        "colab": {
          "base_uri": "https://localhost:8080/"
        },
        "id": "mCF7_reLofpD",
        "outputId": "f91634f9-9d9a-4de2-91d5-f9f9bb25e619"
      },
      "execution_count": 11,
      "outputs": [
        {
          "output_type": "stream",
          "name": "stdout",
          "text": [
            "-0.18471177\n",
            "-0.18471177\n"
          ]
        }
      ]
    },
    {
      "cell_type": "code",
      "source": [
        "print(\"old key\", key)\n",
        "new_key, subkey = random.split(key)\n",
        "del key  # 오래된 키는 지워버리며 나중에라도 사용ㅇ하지 않습니다..\n",
        "normal_sample = random.normal(subkey)\n",
        "print(r\"    \\---SPLIT --> new key   \", new_key)\n",
        "print(r\"             \\--> new subkey\", subkey, \"--> normal\", normal_sample)\n",
        "del subkey  # 서브키도 사용후에 제거해야 합니다.\n",
        "key = new_key  # 만약에 한번 이 키를 다시 생성해야 한다면 new_key는 키로 사용됩니다."
      ],
      "metadata": {
        "colab": {
          "base_uri": "https://localhost:8080/"
        },
        "id": "O9eTfgXToizQ",
        "outputId": "b42116aa-2825-4786-8203-c971388a2b3e"
      },
      "execution_count": 13,
      "outputs": [
        {
          "output_type": "stream",
          "name": "stdout",
          "text": [
            "old key [2465931498 3679230171]\n",
            "    \\---SPLIT --> new key    [3164236999 3984487275]\n",
            "             \\--> new subkey [3923418436 1366451097] --> normal -0.19947024\n"
          ]
        }
      ]
    },
    {
      "cell_type": "code",
      "source": [
        "key, subkey = random.split(key)"
      ],
      "metadata": {
        "id": "cNnWNQa9ok2A"
      },
      "execution_count": 14,
      "outputs": []
    },
    {
      "cell_type": "code",
      "source": [
        "key = random.PRNGKey(42)\n",
        "subkeys = random.split(key, 3)\n",
        "sequence = np.stack([random.normal(subkey) for subkey in subkeys])\n",
        "print(\"individually:\", sequence)\n",
        "key = random.PRNGKey(42)\n",
        "print(\"all at once: \", random.normal(key, shape=(3,)))\n"
      ],
      "metadata": {
        "colab": {
          "base_uri": "https://localhost:8080/"
        },
        "id": "Px_18uMGo-iN",
        "outputId": "ba41292a-1e11-4d5a-e442-a4c6a717dcc2"
      },
      "execution_count": 15,
      "outputs": [
        {
          "output_type": "stream",
          "name": "stdout",
          "text": [
            "individually: [-0.04838832  0.10796154 -1.2226542 ]\n",
            "all at once:  [ 0.18693547 -1.2806505  -1.5593132 ]\n"
          ]
        }
      ]
    },
    {
      "cell_type": "code",
      "source": [],
      "metadata": {
        "id": "iyS7lqG1pATy"
      },
      "execution_count": null,
      "outputs": []
    }
  ]
}
