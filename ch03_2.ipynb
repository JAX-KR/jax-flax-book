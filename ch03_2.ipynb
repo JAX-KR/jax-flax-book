{
  "nbformat": 4,
  "nbformat_minor": 0,
  "metadata": {
    "colab": {
      "provenance": [],
      "machine_shape": "hm",
      "gpuType": "T4",
      "authorship_tag": "ABX9TyOeDr7CN4u+R5RwdTinrMed",
      "include_colab_link": true
    },
    "kernelspec": {
      "name": "python3",
      "display_name": "Python 3"
    },
    "language_info": {
      "name": "python"
    },
    "accelerator": "GPU"
  },
  "cells": [
    {
      "cell_type": "markdown",
      "metadata": {
        "id": "view-in-github",
        "colab_type": "text"
      },
      "source": [
        "<a href=\"https://colab.research.google.com/github/yblee110/jax-flax-book/blob/main/ch03_2ipynb.ipynb\" target=\"_parent\"><img src=\"https://colab.research.google.com/assets/colab-badge.svg\" alt=\"Open In Colab\"/></a>"
      ]
    },
    {
      "cell_type": "code",
      "source": [
        "!pip install jax[\"gpu\"]==0.4.20 flax==0.7.5 optax==0.1.7 jaxlib==0.4.20 datasets"
      ],
      "metadata": {
        "colab": {
          "base_uri": "https://localhost:8080/"
        },
        "id": "rDj3vAIQV17L",
        "outputId": "03b6f2d7-adf7-4570-a5f1-265dbc62418f"
      },
      "execution_count": 8,
      "outputs": [
        {
          "output_type": "stream",
          "name": "stdout",
          "text": [
            "Requirement already satisfied: jax[gpu]==0.4.20 in /usr/local/lib/python3.10/dist-packages (0.4.20)\n",
            "Requirement already satisfied: flax==0.7.5 in /usr/local/lib/python3.10/dist-packages (0.7.5)\n",
            "Requirement already satisfied: optax==0.1.7 in /usr/local/lib/python3.10/dist-packages (0.1.7)\n",
            "Requirement already satisfied: jaxlib==0.4.20 in /usr/local/lib/python3.10/dist-packages (0.4.20)\n",
            "Requirement already satisfied: datasets in /usr/local/lib/python3.10/dist-packages (2.18.0)\n",
            "\u001b[33mWARNING: jax 0.4.20 does not provide the extra 'gpu'\u001b[0m\u001b[33m\n",
            "\u001b[0mRequirement already satisfied: ml-dtypes>=0.2.0 in /usr/local/lib/python3.10/dist-packages (from jax[gpu]==0.4.20) (0.2.0)\n",
            "Requirement already satisfied: numpy>=1.22 in /usr/local/lib/python3.10/dist-packages (from jax[gpu]==0.4.20) (1.25.2)\n",
            "Requirement already satisfied: opt-einsum in /usr/local/lib/python3.10/dist-packages (from jax[gpu]==0.4.20) (3.3.0)\n",
            "Requirement already satisfied: scipy>=1.9 in /usr/local/lib/python3.10/dist-packages (from jax[gpu]==0.4.20) (1.11.4)\n",
            "Requirement already satisfied: msgpack in /usr/local/lib/python3.10/dist-packages (from flax==0.7.5) (1.0.8)\n",
            "Requirement already satisfied: orbax-checkpoint in /usr/local/lib/python3.10/dist-packages (from flax==0.7.5) (0.4.4)\n",
            "Requirement already satisfied: tensorstore in /usr/local/lib/python3.10/dist-packages (from flax==0.7.5) (0.1.45)\n",
            "Requirement already satisfied: rich>=11.1 in /usr/local/lib/python3.10/dist-packages (from flax==0.7.5) (13.7.1)\n",
            "Requirement already satisfied: typing-extensions>=4.2 in /usr/local/lib/python3.10/dist-packages (from flax==0.7.5) (4.10.0)\n",
            "Requirement already satisfied: PyYAML>=5.4.1 in /usr/local/lib/python3.10/dist-packages (from flax==0.7.5) (6.0.1)\n",
            "Requirement already satisfied: absl-py>=0.7.1 in /usr/local/lib/python3.10/dist-packages (from optax==0.1.7) (1.4.0)\n",
            "Requirement already satisfied: chex>=0.1.5 in /usr/local/lib/python3.10/dist-packages (from optax==0.1.7) (0.1.85)\n",
            "Requirement already satisfied: filelock in /usr/local/lib/python3.10/dist-packages (from datasets) (3.13.1)\n",
            "Requirement already satisfied: pyarrow>=12.0.0 in /usr/local/lib/python3.10/dist-packages (from datasets) (14.0.2)\n",
            "Requirement already satisfied: pyarrow-hotfix in /usr/local/lib/python3.10/dist-packages (from datasets) (0.6)\n",
            "Requirement already satisfied: dill<0.3.9,>=0.3.0 in /usr/local/lib/python3.10/dist-packages (from datasets) (0.3.8)\n",
            "Requirement already satisfied: pandas in /usr/local/lib/python3.10/dist-packages (from datasets) (1.5.3)\n",
            "Requirement already satisfied: requests>=2.19.0 in /usr/local/lib/python3.10/dist-packages (from datasets) (2.31.0)\n",
            "Requirement already satisfied: tqdm>=4.62.1 in /usr/local/lib/python3.10/dist-packages (from datasets) (4.66.2)\n",
            "Requirement already satisfied: xxhash in /usr/local/lib/python3.10/dist-packages (from datasets) (3.4.1)\n",
            "Requirement already satisfied: multiprocess in /usr/local/lib/python3.10/dist-packages (from datasets) (0.70.16)\n",
            "Requirement already satisfied: fsspec[http]<=2024.2.0,>=2023.1.0 in /usr/local/lib/python3.10/dist-packages (from datasets) (2023.6.0)\n",
            "Requirement already satisfied: aiohttp in /usr/local/lib/python3.10/dist-packages (from datasets) (3.9.3)\n",
            "Requirement already satisfied: huggingface-hub>=0.19.4 in /usr/local/lib/python3.10/dist-packages (from datasets) (0.20.3)\n",
            "Requirement already satisfied: packaging in /usr/local/lib/python3.10/dist-packages (from datasets) (24.0)\n",
            "Requirement already satisfied: toolz>=0.9.0 in /usr/local/lib/python3.10/dist-packages (from chex>=0.1.5->optax==0.1.7) (0.12.1)\n",
            "Requirement already satisfied: aiosignal>=1.1.2 in /usr/local/lib/python3.10/dist-packages (from aiohttp->datasets) (1.3.1)\n",
            "Requirement already satisfied: attrs>=17.3.0 in /usr/local/lib/python3.10/dist-packages (from aiohttp->datasets) (23.2.0)\n",
            "Requirement already satisfied: frozenlist>=1.1.1 in /usr/local/lib/python3.10/dist-packages (from aiohttp->datasets) (1.4.1)\n",
            "Requirement already satisfied: multidict<7.0,>=4.5 in /usr/local/lib/python3.10/dist-packages (from aiohttp->datasets) (6.0.5)\n",
            "Requirement already satisfied: yarl<2.0,>=1.0 in /usr/local/lib/python3.10/dist-packages (from aiohttp->datasets) (1.9.4)\n",
            "Requirement already satisfied: async-timeout<5.0,>=4.0 in /usr/local/lib/python3.10/dist-packages (from aiohttp->datasets) (4.0.3)\n",
            "Requirement already satisfied: charset-normalizer<4,>=2 in /usr/local/lib/python3.10/dist-packages (from requests>=2.19.0->datasets) (3.3.2)\n",
            "Requirement already satisfied: idna<4,>=2.5 in /usr/local/lib/python3.10/dist-packages (from requests>=2.19.0->datasets) (3.6)\n",
            "Requirement already satisfied: urllib3<3,>=1.21.1 in /usr/local/lib/python3.10/dist-packages (from requests>=2.19.0->datasets) (2.0.7)\n",
            "Requirement already satisfied: certifi>=2017.4.17 in /usr/local/lib/python3.10/dist-packages (from requests>=2.19.0->datasets) (2024.2.2)\n",
            "Requirement already satisfied: markdown-it-py>=2.2.0 in /usr/local/lib/python3.10/dist-packages (from rich>=11.1->flax==0.7.5) (3.0.0)\n",
            "Requirement already satisfied: pygments<3.0.0,>=2.13.0 in /usr/local/lib/python3.10/dist-packages (from rich>=11.1->flax==0.7.5) (2.16.1)\n",
            "Requirement already satisfied: etils[epath,epy] in /usr/local/lib/python3.10/dist-packages (from orbax-checkpoint->flax==0.7.5) (1.7.0)\n",
            "Requirement already satisfied: nest_asyncio in /usr/local/lib/python3.10/dist-packages (from orbax-checkpoint->flax==0.7.5) (1.6.0)\n",
            "Requirement already satisfied: protobuf in /usr/local/lib/python3.10/dist-packages (from orbax-checkpoint->flax==0.7.5) (3.20.3)\n",
            "Requirement already satisfied: python-dateutil>=2.8.1 in /usr/local/lib/python3.10/dist-packages (from pandas->datasets) (2.8.2)\n",
            "Requirement already satisfied: pytz>=2020.1 in /usr/local/lib/python3.10/dist-packages (from pandas->datasets) (2023.4)\n",
            "Requirement already satisfied: mdurl~=0.1 in /usr/local/lib/python3.10/dist-packages (from markdown-it-py>=2.2.0->rich>=11.1->flax==0.7.5) (0.1.2)\n",
            "Requirement already satisfied: six>=1.5 in /usr/local/lib/python3.10/dist-packages (from python-dateutil>=2.8.1->pandas->datasets) (1.16.0)\n",
            "Requirement already satisfied: importlib_resources in /usr/local/lib/python3.10/dist-packages (from etils[epath,epy]->orbax-checkpoint->flax==0.7.5) (6.3.0)\n",
            "Requirement already satisfied: zipp in /usr/local/lib/python3.10/dist-packages (from etils[epath,epy]->orbax-checkpoint->flax==0.7.5) (3.18.0)\n"
          ]
        }
      ]
    },
    {
      "cell_type": "code",
      "execution_count": 9,
      "metadata": {
        "colab": {
          "base_uri": "https://localhost:8080/"
        },
        "id": "Lv3d7iPQUO1p",
        "outputId": "476e285a-6e9f-4ecb-c7d3-76c4e334fb90"
      },
      "outputs": [
        {
          "output_type": "stream",
          "name": "stdout",
          "text": [
            "JAX Version : 0.4.20\n",
            "FLAX Version : 0.7.5\n",
            "OPTAX Version : 0.1.7\n"
          ]
        }
      ],
      "source": [
        "import jax\n",
        "import flax\n",
        "import optax\n",
        "import datasets\n",
        "\n",
        "print(\"JAX Version : {}\".format(jax.__version__)) #출력 JAX Version : 0.4.20\n",
        "print(\"FLAX Version : {}\".format(flax.__version__)) #출력 FLAX Version : 0.7.5\n",
        "print(\"OPTAX Version : {}\".format(optax.__version__))#출력 OPTAX Version : 0.1.7"
      ]
    },
    {
      "cell_type": "code",
      "source": [
        "import jax.numpy as jnp\n",
        "from datasets import load_dataset\n",
        "\n",
        "\n",
        "def get_datasets():\n",
        "  datasets = load_dataset(\"mnist\")\n",
        "  datasets = datasets.with_format(\"jax\")\n",
        "  datasets = {\n",
        "    \"train\": {\n",
        "      \"image\": datasets[\"train\"][\"image\"][...,None].astype(jnp.float32)/255,\n",
        "      \"label\": datasets[\"train\"][\"label\"],\n",
        "    },\n",
        "    \"test\": {\n",
        "      \"image\": datasets[\"test\"][\"image\"][...,None].astype(jnp.float32)/255,\n",
        "      \"label\": datasets[\"test\"][\"label\"],\n",
        "    },\n",
        "  }\n",
        "  return datasets['train'], datasets['test']\n"
      ],
      "metadata": {
        "id": "g70s8-VdVzuM"
      },
      "execution_count": 10,
      "outputs": []
    },
    {
      "cell_type": "code",
      "source": [
        "train_ds, test_ds = get_datasets()"
      ],
      "metadata": {
        "id": "2GpOUMrNXeKi"
      },
      "execution_count": 11,
      "outputs": []
    },
    {
      "cell_type": "code",
      "source": [
        "import flax.linen as nn\n",
        "\n",
        "class CNN(nn.Module):\n",
        "  num_classes: int\n",
        "\n",
        "\n",
        "  @nn.compact\n",
        "  def __call__(self, x, train: bool):\n",
        "      x = nn.Conv(features=16, kernel_size=(5, 5), strides=(2, 2),\n",
        "                  padding='VALID')(x)\n",
        "      x = nn.BatchNorm(use_running_average=not train)(x)\n",
        "      x = nn.relu(x)\n",
        "      x = nn.Conv(features=32, kernel_size=(5, 5), strides=(2, 2),\n",
        "                  padding='VALID')(x)\n",
        "      x = nn.BatchNorm(use_running_average=not train)(x)\n",
        "      x = nn.relu(x)\n",
        "      x = jnp.mean(x, axis=(1, 2))\n",
        "      x = nn.Dense(features=self.num_classes)(x)\n",
        "      return x\n"
      ],
      "metadata": {
        "id": "YAyuduliYowp"
      },
      "execution_count": 13,
      "outputs": []
    },
    {
      "cell_type": "code",
      "source": [
        "rng = jax.random.PRNGKey(0)\n",
        "model = CNN(num_classes=10)\n",
        "\n",
        "\n",
        "rng, key = jax.random.split(rng)\n",
        "variables = model.init(key, jnp.ones((1, 28, 28, 1)), train=False)\n",
        "params = variables['params']\n",
        "batch_stats = variables['batch_stats']"
      ],
      "metadata": {
        "id": "icCMqMGMXnhs"
      },
      "execution_count": 15,
      "outputs": []
    },
    {
      "cell_type": "code",
      "source": [
        "jax.tree_util.tree_map(jnp.shape, variables)"
      ],
      "metadata": {
        "colab": {
          "base_uri": "https://localhost:8080/"
        },
        "id": "7-mpDIknY20n",
        "outputId": "bf0588bf-3597-4910-d38c-113af564d7cf"
      },
      "execution_count": 16,
      "outputs": [
        {
          "output_type": "execute_result",
          "data": {
            "text/plain": [
              "{'batch_stats': {'BatchNorm_0': {'mean': (16,), 'var': (16,)},\n",
              "  'BatchNorm_1': {'mean': (32,), 'var': (32,)}},\n",
              " 'params': {'BatchNorm_0': {'bias': (16,), 'scale': (16,)},\n",
              "  'BatchNorm_1': {'bias': (32,), 'scale': (32,)},\n",
              "  'Conv_0': {'bias': (16,), 'kernel': (5, 5, 1, 16)},\n",
              "  'Conv_1': {'bias': (32,), 'kernel': (5, 5, 16, 32)},\n",
              "  'Dense_0': {'bias': (10,), 'kernel': (32, 10)}}}"
            ]
          },
          "metadata": {},
          "execution_count": 16
        }
      ]
    },
    {
      "cell_type": "code",
      "source": [
        "def compute_metrics(logits, labels):\n",
        "  loss = jnp.mean(optax.softmax_cross_entropy(logits, jax.nn.one_hot(labels, num_classes=10)))\n",
        "  accuracy = jnp.mean(jnp.argmax(logits, -1) == labels)\n",
        "  metrics = {\n",
        "    'loss': loss,\n",
        "    'accuracy': accuracy\n",
        "  }\n",
        "  return metrics\n"
      ],
      "metadata": {
        "id": "yfHrDCUrZjBJ"
      },
      "execution_count": 24,
      "outputs": []
    },
    {
      "cell_type": "code",
      "source": [
        "from flax.training import train_state\n",
        "from typing import Any\n",
        "\n",
        "\n",
        "class TrainState(train_state.TrainState):\n",
        "    batch_stats: Any\n",
        "\n",
        "\n",
        "learning_rate = 0.001\n",
        "tx = optax.adam(learning_rate=learning_rate)\n",
        "\n",
        "\n",
        "state = TrainState.create(\n",
        "    apply_fn=model.apply,\n",
        "    params=params,\n",
        "    batch_stats=batch_stats,\n",
        "    tx=tx,\n",
        ")\n"
      ],
      "metadata": {
        "id": "a6I9gxbRY9jA"
      },
      "execution_count": 25,
      "outputs": []
    },
    {
      "cell_type": "code",
      "source": [
        "@jax.jit\n",
        "def train_step(state, batch):\n",
        "  def loss_fn(params):\n",
        "      logits, updates = state.apply_fn(\n",
        "           {'params': params, 'batch_stats': state.batch_stats},\n",
        "           batch['image'], train=True, mutable=['batch_stats'])\n",
        "      loss = jnp.mean(optax.softmax_cross_entropy(\n",
        "          logits=logits,\n",
        "          labels=jax.nn.one_hot(batch['label'], num_classes=10))\n",
        "      )\n",
        "      return loss, (logits, updates)\n",
        "  grad_fn = jax.value_and_grad(loss_fn, has_aux=True)\n",
        "  (_, (logits, updates)), grads = grad_fn(state.params)\n",
        "  state = state.apply_gradients(grads=grads)\n",
        "  state = state.replace(batch_stats=updates['batch_stats'])\n",
        "\n",
        "\n",
        "  metrics = compute_metrics(logits, batch['label'])\n",
        "  return state, metrics\n"
      ],
      "metadata": {
        "id": "i_LpOwn5ZAl4"
      },
      "execution_count": 26,
      "outputs": []
    },
    {
      "cell_type": "code",
      "source": [
        "@jax.jit\n",
        "def eval_step(state, batch):\n",
        "  logits = state.apply_fn(\n",
        "     {'params': state.params, 'batch_stats': state.batch_stats},\n",
        "     batch['image'], train=False)\n",
        "  return compute_metrics(logits, batch['label'])"
      ],
      "metadata": {
        "id": "Dv5U39hMZL9l"
      },
      "execution_count": 27,
      "outputs": []
    },
    {
      "cell_type": "code",
      "source": [
        "def train_loop(state, train_ds, batch_size, epoch, rng):\n",
        "  train_ds_size = len(train_ds['image'])\n",
        "  steps_per_epoch = train_ds_size // batch_size\n",
        "\n",
        "  perms = jax.random.permutation(rng, train_ds_size)\n",
        "  perms = perms[:steps_per_epoch * batch_size]  # 완성되지 않은 배치는 생략합니다.\n",
        "  perms = perms.reshape((steps_per_epoch, batch_size))\n",
        "\n",
        "  batch_metrics = []\n",
        "  for perm in perms:\n",
        "    batch = {k: v[perm, ...] for k, v in train_ds.items()}\n",
        "    state, metrics = train_step(state, batch)\n",
        "    batch_metrics.append(metrics)\n",
        "\n",
        "\n",
        "  training_batch_metrics = jax.device_get(batch_metrics)\n",
        "  training_epoch_metrics = {\n",
        "    k: sum([metrics[k] for metrics in training_batch_metrics])/steps_per_epoch\n",
        "    for k in training_batch_metrics[0]}\n",
        "\n",
        "  print('EPOCH: %d\\nTraining loss: %.4f, accuracy: %.2f' % (epoch, training_epoch_metrics['loss'], training_epoch_metrics['accuracy'] * 100))\n",
        "  return state\n"
      ],
      "metadata": {
        "id": "ZsgvGXAIZcON"
      },
      "execution_count": 28,
      "outputs": []
    },
    {
      "cell_type": "code",
      "source": [
        "def eval_loop(state, test_ds, batch_size):\n",
        "  eval_ds_size = test_ds['image'].shape[0]\n",
        "  steps_per_epoch = eval_ds_size // batch_size\n",
        "  batch_metrics = []\n",
        "  for i in range(steps_per_epoch):\n",
        "    batch = {k: v[i*batch_size:(i+1)*batch_size, ...] for k, v in test_ds.items()}\n",
        "    metrics = eval_step(state, batch)\n",
        "    batch_metrics.append(metrics)\n",
        "  eval_batch_metrics = jax.device_get(batch_metrics)\n",
        "  eval_batch_metrics = {\n",
        "    k: sum([metrics[k] for metrics in eval_batch_metrics])/steps_per_epoch\n",
        "    for k in eval_batch_metrics[0]}\n",
        "\n",
        "  print('    Eval loss: %.4f, accuracy: %.2f' % (eval_batch_metrics['loss'], eval_batch_metrics['accuracy'] * 100))"
      ],
      "metadata": {
        "id": "x0SiqjqVZcQ4"
      },
      "execution_count": 30,
      "outputs": []
    },
    {
      "cell_type": "code",
      "source": [
        "\n",
        "train_epoch = 10\n",
        "batch_size = 64\n",
        "eval_batch_size = 100\n",
        "for epoch in range(train_epoch):\n",
        "  rng, key = jax.random.split(rng)\n",
        "  state = train_loop(state, train_ds, batch_size, epoch, rng)\n",
        "  eval_loop(state, test_ds, eval_batch_size)\n"
      ],
      "metadata": {
        "colab": {
          "base_uri": "https://localhost:8080/"
        },
        "id": "ovSjaA2GZMAZ",
        "outputId": "9af8ce6d-9b90-4ca5-8d39-c0f0479c0077"
      },
      "execution_count": 31,
      "outputs": [
        {
          "output_type": "stream",
          "name": "stdout",
          "text": [
            "EPOCH: 0\n",
            "Training loss: 0.7511, accuracy: 84.57\n",
            "    Eval loss: 0.3111, accuracy: 92.91\n",
            "EPOCH: 1\n",
            "Training loss: 0.2055, accuracy: 95.41\n",
            "    Eval loss: 0.1392, accuracy: 96.85\n",
            "EPOCH: 2\n",
            "Training loss: 0.1344, accuracy: 96.69\n",
            "    Eval loss: 0.1361, accuracy: 96.43\n",
            "EPOCH: 3\n",
            "Training loss: 0.1054, accuracy: 97.24\n",
            "    Eval loss: 0.0939, accuracy: 97.53\n",
            "EPOCH: 4\n",
            "Training loss: 0.0867, accuracy: 97.71\n",
            "    Eval loss: 0.1011, accuracy: 97.23\n",
            "EPOCH: 5\n",
            "Training loss: 0.0762, accuracy: 97.94\n",
            "    Eval loss: 0.0779, accuracy: 97.56\n",
            "EPOCH: 6\n",
            "Training loss: 0.0676, accuracy: 98.09\n",
            "    Eval loss: 0.0824, accuracy: 97.55\n",
            "EPOCH: 7\n",
            "Training loss: 0.0609, accuracy: 98.34\n",
            "    Eval loss: 0.1145, accuracy: 96.29\n",
            "EPOCH: 8\n",
            "Training loss: 0.0560, accuracy: 98.44\n",
            "    Eval loss: 0.0882, accuracy: 97.18\n",
            "EPOCH: 9\n",
            "Training loss: 0.0506, accuracy: 98.57\n",
            "    Eval loss: 0.0620, accuracy: 98.11\n"
          ]
        }
      ]
    },
    {
      "cell_type": "code",
      "source": [],
      "metadata": {
        "id": "FBFB0seZZQS-"
      },
      "execution_count": null,
      "outputs": []
    }
  ]
}
