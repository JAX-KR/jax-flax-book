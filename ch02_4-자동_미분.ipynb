{
  "nbformat": 4,
  "nbformat_minor": 0,
  "metadata": {
    "colab": {
      "provenance": [],
      "gpuType": "T4",
      "authorship_tag": "ABX9TyO0DBuHv30LbVUeUIagkvg5",
      "include_colab_link": true
    },
    "kernelspec": {
      "name": "python3",
      "display_name": "Python 3"
    },
    "language_info": {
      "name": "python"
    },
    "accelerator": "GPU"
  },
  "cells": [
    {
      "cell_type": "markdown",
      "metadata": {
        "id": "view-in-github",
        "colab_type": "text"
      },
      "source": [
        "<a href=\"https://colab.research.google.com/github/yblee110/jax-flax-book/blob/main/ch02_4.ipynb\" target=\"_parent\"><img src=\"https://colab.research.google.com/assets/colab-badge.svg\" alt=\"Open In Colab\"/></a>"
      ]
    },
    {
      "cell_type": "code",
      "execution_count": 1,
      "metadata": {
        "id": "MIcB_OnIlgBz"
      },
      "outputs": [],
      "source": [
        "import jax\n",
        "\n",
        "f = lambda x: x**3 - 2*x**2 + 3*x - 4\n",
        "\n",
        "dfdx = jax.grad(f)\n",
        "d2fdx = jax.grad(dfdx)\n",
        "d3fdx = jax.grad(d2fdx)\n",
        "d4fdx = jax.grad(d3fdx)"
      ]
    },
    {
      "cell_type": "code",
      "source": [
        "import jax\n",
        "import jax.numpy as jnp\n",
        "\n",
        "\n",
        "def hessian(f):\n",
        "    return jax.jacfwd(jax.grad(f))\n",
        "\n",
        "\n",
        "def f(x):\n",
        "    return jnp.dot(x, x)\n",
        "\n",
        "\n",
        "hessian(f)(jnp.array([1., 2., 3.]))\n"
      ],
      "metadata": {
        "colab": {
          "base_uri": "https://localhost:8080/"
        },
        "id": "kJg2rZ1el6gK",
        "outputId": "bd2d3221-a68b-43a0-b03b-0e2864bdbc76"
      },
      "execution_count": 2,
      "outputs": [
        {
          "output_type": "execute_result",
          "data": {
            "text/plain": [
              "Array([[2., 0., 0.],\n",
              "       [0., 2., 0.],\n",
              "       [0., 0., 2.]], dtype=float32)"
            ]
          },
          "metadata": {},
          "execution_count": 2
        }
      ]
    },
    {
      "cell_type": "code",
      "source": [
        "# meta loss만 가져왔기에 실제로 작동하지 않는 코드\n",
        "\n",
        "def meta_loss_fn(params, data):\n",
        "    \"\"\"SGD 한 스텝 후의 손실 계산.\"\"\"\n",
        "    grads = jax.grad(loss_fn)(params, data)\n",
        "    return loss_fn(params - lr * grads, data)\n",
        "\n",
        "\n",
        "meta_grads = jax.grad(meta_loss_fn)(params, data)\n"
      ],
      "metadata": {
        "colab": {
          "base_uri": "https://localhost:8080/",
          "height": 214
        },
        "id": "8T6duORYmEw-",
        "outputId": "1b74ba04-3525-4ea6-8934-a2c9f5642ad4"
      },
      "execution_count": 3,
      "outputs": [
        {
          "output_type": "error",
          "ename": "NameError",
          "evalue": "ignored",
          "traceback": [
            "\u001b[0;31m---------------------------------------------------------------------------\u001b[0m",
            "\u001b[0;31mNameError\u001b[0m                                 Traceback (most recent call last)",
            "\u001b[0;32m<ipython-input-3-7dc036865c28>\u001b[0m in \u001b[0;36m<cell line: 9>\u001b[0;34m()\u001b[0m\n\u001b[1;32m      7\u001b[0m \u001b[0;34m\u001b[0m\u001b[0m\n\u001b[1;32m      8\u001b[0m \u001b[0;34m\u001b[0m\u001b[0m\n\u001b[0;32m----> 9\u001b[0;31m \u001b[0mmeta_grads\u001b[0m \u001b[0;34m=\u001b[0m \u001b[0mjax\u001b[0m\u001b[0;34m.\u001b[0m\u001b[0mgrad\u001b[0m\u001b[0;34m(\u001b[0m\u001b[0mmeta_loss_fn\u001b[0m\u001b[0;34m)\u001b[0m\u001b[0;34m(\u001b[0m\u001b[0mparams\u001b[0m\u001b[0;34m,\u001b[0m \u001b[0mdata\u001b[0m\u001b[0;34m)\u001b[0m\u001b[0;34m\u001b[0m\u001b[0;34m\u001b[0m\u001b[0m\n\u001b[0m",
            "\u001b[0;31mNameError\u001b[0m: name 'params' is not defined"
          ]
        }
      ]
    },
    {
      "cell_type": "code",
      "source": [
        "# 가치 평가 함수 및 초기 가중치\n",
        "value_fn = lambda theta, state: jnp.dot(theta, state)\n",
        "theta = jnp.array([0.1, -0.1, 0.])"
      ],
      "metadata": {
        "id": "FnY1MxBlmJbY"
      },
      "execution_count": 4,
      "outputs": []
    },
    {
      "cell_type": "code",
      "source": [
        "# 상태 전이와 보상의 예\n",
        "s_tm1 = jnp.array([1., 2., -1.])\n",
        "r_t = jnp.array(1.)\n",
        "s_t = jnp.array([2., 1., 0.])"
      ],
      "metadata": {
        "id": "QZuN9eajmYiu"
      },
      "execution_count": 5,
      "outputs": []
    },
    {
      "cell_type": "code",
      "source": [
        "def td_loss(theta, s_tm1, r_t, s_t):\n",
        "    v_tm1 = value_fn(theta, s_tm1)\n",
        "    target = r_t + value_fn(theta, s_t)\n",
        "    return (target - v_tm1) ** 2\n",
        "\n",
        "\n",
        "td_update = jax.grad(td_loss)\n",
        "delta_theta = td_update(theta, s_tm1, r_t, s_t)\n",
        "\n",
        "\n",
        "delta_theta\n"
      ],
      "metadata": {
        "colab": {
          "base_uri": "https://localhost:8080/"
        },
        "id": "57A2PKYLmZou",
        "outputId": "9953a9ed-0349-4ff1-e31f-6371a10d6dcf"
      },
      "execution_count": 6,
      "outputs": [
        {
          "output_type": "execute_result",
          "data": {
            "text/plain": [
              "Array([ 2.4, -2.4,  2.4], dtype=float32)"
            ]
          },
          "metadata": {},
          "execution_count": 6
        }
      ]
    },
    {
      "cell_type": "code",
      "source": [
        "def td_loss_with_stop_gradient(theta, s_tm1, r_t, s_t):\n",
        "    v_tm1 = value_fn(theta, s_tm1)\n",
        "    target = r_t + value_fn(theta, s_t)\n",
        "    return (jax.lax.stop_gradient(target) - v_tm1) ** 2\n",
        "\n",
        "\n",
        "td_update = jax.grad(td_loss_with_stop_gradient)\n",
        "delta_theta = td_update(theta, s_tm1, r_t, s_t)\n",
        "\n",
        "\n",
        "delta_theta\n"
      ],
      "metadata": {
        "colab": {
          "base_uri": "https://localhost:8080/"
        },
        "id": "cjFR2vCtmeDL",
        "outputId": "9625deec-2e32-4b9c-f798-eb9ad0dd4da4"
      },
      "execution_count": 7,
      "outputs": [
        {
          "output_type": "execute_result",
          "data": {
            "text/plain": [
              "Array([-2.4, -4.8,  2.4], dtype=float32)"
            ]
          },
          "metadata": {},
          "execution_count": 7
        }
      ]
    },
    {
      "cell_type": "code",
      "source": [
        "def f(x):\n",
        "    return jnp.round(x) # 미분 불가능\n",
        "\n",
        "\n",
        "def straight_through_f(x):\n",
        "# f(x)와 결과는 같지만 미분은 1이 나오도록 함\n",
        "    zero = x - jax.lax.stop_gradient(x)\n",
        "    return zero + jax.lax.stop_gradient(f(x))\n",
        "\n",
        "\n",
        "print(\"f(x): \", f(3.2))\n",
        "print(\"straight_through_f(x):\", straight_through_f(3.2))\n",
        "\n",
        "\n",
        "print(\"grad(f)(x):\", jax.grad(f)(3.2))\n",
        "print(\"grad(straight_through_f)(x):\", jax.grad(straight_through_f)(3.2))\n"
      ],
      "metadata": {
        "colab": {
          "base_uri": "https://localhost:8080/"
        },
        "id": "5SsEyUeTmsEG",
        "outputId": "eefb344c-5960-439c-a49a-6761ff3ab4b8"
      },
      "execution_count": 8,
      "outputs": [
        {
          "output_type": "stream",
          "name": "stdout",
          "text": [
            "f(x):  3.0\n",
            "straight_through_f(x): 3.0\n",
            "grad(f)(x): 0.0\n",
            "grad(straight_through_f)(x): 1.0\n"
          ]
        }
      ]
    },
    {
      "cell_type": "code",
      "source": [
        "dtdloss_dtheta = jax.grad(td_loss_with_stop_gradient)\n",
        "\n",
        "\n",
        "dtdloss_dtheta(theta, s_tm1, r_t, s_t)\n"
      ],
      "metadata": {
        "colab": {
          "base_uri": "https://localhost:8080/"
        },
        "id": "WUEzLP6smx0j",
        "outputId": "767ab8b4-78b4-4ec8-bb80-f2f7533b3c1e"
      },
      "execution_count": 9,
      "outputs": [
        {
          "output_type": "execute_result",
          "data": {
            "text/plain": [
              "Array([-2.4, -4.8,  2.4], dtype=float32)"
            ]
          },
          "metadata": {},
          "execution_count": 9
        }
      ]
    },
    {
      "cell_type": "code",
      "source": [
        "almost_perex_grads = jax.vmap(dtdloss_dtheta)\n",
        "\n",
        "\n",
        "batched_s_tm1 = jnp.stack([s_tm1, s_tm1])\n",
        "batched_r_t = jnp.stack([r_t, r_t])\n",
        "batched_s_t = jnp.stack([s_t, s_t])\n",
        "\n",
        "\n",
        "batched_theta = jnp.stack([theta, theta])\n",
        "almost_perex_grads(batched_theta, batched_s_tm1, batched_r_t, batched_s_t)\n"
      ],
      "metadata": {
        "colab": {
          "base_uri": "https://localhost:8080/"
        },
        "id": "dun2k02Sm8U1",
        "outputId": "95460e0a-9f86-478b-ba44-8169e085c6d5"
      },
      "execution_count": 10,
      "outputs": [
        {
          "output_type": "execute_result",
          "data": {
            "text/plain": [
              "Array([[-2.4, -4.8,  2.4],\n",
              "       [-2.4, -4.8,  2.4]], dtype=float32)"
            ]
          },
          "metadata": {},
          "execution_count": 10
        }
      ]
    },
    {
      "cell_type": "code",
      "source": [
        "inefficient_perex_grads = jax.vmap(dtdloss_dtheta, in_axes=(None, 0, 0, 0))\n",
        "\n",
        "\n",
        "inefficient_perex_grads(theta, batched_s_tm1, batched_r_t, batched_s_t)\n"
      ],
      "metadata": {
        "colab": {
          "base_uri": "https://localhost:8080/"
        },
        "id": "e-WpvFZ0nJMM",
        "outputId": "f7117379-086c-4df4-87ce-46e8db797500"
      },
      "execution_count": 11,
      "outputs": [
        {
          "output_type": "execute_result",
          "data": {
            "text/plain": [
              "Array([[-2.4, -4.8,  2.4],\n",
              "       [-2.4, -4.8,  2.4]], dtype=float32)"
            ]
          },
          "metadata": {},
          "execution_count": 11
        }
      ]
    },
    {
      "cell_type": "code",
      "source": [
        "perex_grads = jax.jit(inefficient_perex_grads)\n",
        "\n",
        "\n",
        "perex_grads(theta, batched_s_tm1, batched_r_t, batched_s_t)\n"
      ],
      "metadata": {
        "colab": {
          "base_uri": "https://localhost:8080/"
        },
        "id": "Czs8shnUnLtA",
        "outputId": "4b03e6df-a3be-4cf3-ac20-e1f74ae2eac1"
      },
      "execution_count": 12,
      "outputs": [
        {
          "output_type": "execute_result",
          "data": {
            "text/plain": [
              "Array([[-2.4, -4.8,  2.4],\n",
              "       [-2.4, -4.8,  2.4]], dtype=float32)"
            ]
          },
          "metadata": {},
          "execution_count": 12
        }
      ]
    },
    {
      "cell_type": "code",
      "source": [
        "%timeit inefficient_perex_grads(theta, batched_s_tm1, batched_r_t, batched_s_t).block_until_ready()\n",
        "%timeit perex_grads(theta, batched_s_tm1, batched_r_t, batched_s_t).block_until_ready()"
      ],
      "metadata": {
        "colab": {
          "base_uri": "https://localhost:8080/"
        },
        "id": "a9QRdsZWnNRg",
        "outputId": "96983a4a-de9c-41bd-a806-0497c20ba903"
      },
      "execution_count": 13,
      "outputs": [
        {
          "output_type": "stream",
          "name": "stdout",
          "text": [
            "14.5 ms ± 7.23 ms per loop (mean ± std. dev. of 7 runs, 10 loops each)\n",
            "141 µs ± 47.1 µs per loop (mean ± std. dev. of 7 runs, 10000 loops each)\n"
          ]
        }
      ]
    }
  ]
}
